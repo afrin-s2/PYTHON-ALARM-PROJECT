{
  "nbformat": 4,
  "nbformat_minor": 0,
  "metadata": {
    "colab": {
      "provenance": []
    },
    "kernelspec": {
      "name": "python3",
      "display_name": "Python 3"
    },
    "language_info": {
      "name": "python"
    }
  },
  "cells": [
    {
      "cell_type": "code",
      "execution_count": 3,
      "metadata": {
        "colab": {
          "base_uri": "https://localhost:8080/"
        },
        "id": "V6rv9uGTjIdA",
        "outputId": "a75762c8-6205-4cf2-a7f3-cc8cf92c7ec2"
      },
      "outputs": [
        {
          "output_type": "stream",
          "name": "stdout",
          "text": [
            "04:20\n",
            "Enter the alarm time(HH:MM) :04:21\n",
            "Time to wake up!\n",
            "04:21\n"
          ]
        }
      ],
      "source": [
        "import time\n",
        "print(time.strftime(\"%H:%M\"))\n",
        "alarmtime=input(\"Enter the alarm time(HH:MM) :\")\n",
        "while time.strftime(\"%H:%M\") !=alarmtime:\n",
        "  time.sleep(1)\n",
        "print(\"Time to wake up!\")\n",
        "print(time.strftime(\"%H:%M\"))"
      ]
    }
  ]
}